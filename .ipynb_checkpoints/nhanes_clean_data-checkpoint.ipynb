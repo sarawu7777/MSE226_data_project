{
 "cells": [
  {
   "cell_type": "code",
   "execution_count": 2,
   "id": "000562de-47a0-473c-ae95-d2e5e765267b",
   "metadata": {},
   "outputs": [],
   "source": [
    "import pandas as pd\n",
    "import glob, os"
   ]
  },
  {
   "cell_type": "code",
   "execution_count": null,
   "id": "1141077c-cc4d-4a10-b623-49acfe520e09",
   "metadata": {},
   "outputs": [],
   "source": [
    "## Read in Data"
   ]
  },
  {
   "cell_type": "code",
   "execution_count": 3,
   "id": "6be75f78-8cba-4cf2-857f-62165964f46a",
   "metadata": {},
   "outputs": [],
   "source": [
    "def read_combine_raw_files(path, file_str = '*.XPT'):\n",
    "    files = glob.glob(os.path.join(path, file_str))\n",
    "\n",
    "    # Print the files \n",
    "    display(files)\n",
    "\n",
    "    # Combining all the files into a DataFrame\n",
    "    df_files = [pd.read_sas(file) for file in files]\n",
    "    combined_df = pd.concat(df_files)\n",
    "    \n",
    "    return combined_df"
   ]
  },
  {
   "cell_type": "code",
   "execution_count": 7,
   "id": "5f82b67b-3802-4166-a9ae-cb2ae1dee21d",
   "metadata": {},
   "outputs": [],
   "source": [
    "def select_df_col(df, sel_col):\n",
    "    \"return df with only selected col\"\n",
    "    col_in_df = [col for col in sel_col if col in df.columns]\n",
    "    \n",
    "    display(col_in_df)\n",
    "    if len(col_in_df) < len(sel_col):\n",
    "        display(\"warnings: not all selected col in df\")\n",
    "        \n",
    "    df_select = df.copy()\n",
    "    \n",
    "    return df_select[col_in_df] "
   ]
  },
  {
   "cell_type": "markdown",
   "id": "f4e4b6f2-7e22-4387-ac89-64b409af0ae9",
   "metadata": {},
   "source": [
    "### 1. Demographics "
   ]
  },
  {
   "cell_type": "code",
   "execution_count": 4,
   "id": "6f8bbbba-4295-4675-b9ce-dc25d9e7658f",
   "metadata": {},
   "outputs": [
    {
     "data": {
      "text/plain": [
       "['nhanes_rawdata/DEMO/DEMO_G.XPT',\n",
       " 'nhanes_rawdata/DEMO/DEMO_H.XPT',\n",
       " 'nhanes_rawdata/DEMO/DEMO_I.XPT',\n",
       " 'nhanes_rawdata/DEMO/DEMO_J.XPT']"
      ]
     },
     "metadata": {},
     "output_type": "display_data"
    }
   ],
   "source": [
    "demo_path = r'nhanes_rawdata/DEMO/'\n",
    "\n",
    "demo_combined = read_combine_raw_files(path = demo_path)"
   ]
  },
  {
   "cell_type": "code",
   "execution_count": 5,
   "id": "45a2ce46-f7da-42fb-ac53-60b2d61587fa",
   "metadata": {},
   "outputs": [
    {
     "data": {
      "text/html": [
       "<div>\n",
       "<style scoped>\n",
       "    .dataframe tbody tr th:only-of-type {\n",
       "        vertical-align: middle;\n",
       "    }\n",
       "\n",
       "    .dataframe tbody tr th {\n",
       "        vertical-align: top;\n",
       "    }\n",
       "\n",
       "    .dataframe thead th {\n",
       "        text-align: right;\n",
       "    }\n",
       "</style>\n",
       "<table border=\"1\" class=\"dataframe\">\n",
       "  <thead>\n",
       "    <tr style=\"text-align: right;\">\n",
       "      <th></th>\n",
       "      <th>SEQN</th>\n",
       "      <th>SDDSRVYR</th>\n",
       "      <th>RIDSTATR</th>\n",
       "      <th>RIAGENDR</th>\n",
       "      <th>RIDAGEYR</th>\n",
       "      <th>RIDAGEMN</th>\n",
       "      <th>RIDRETH1</th>\n",
       "      <th>RIDRETH3</th>\n",
       "      <th>RIDEXMON</th>\n",
       "      <th>RIDEXAGY</th>\n",
       "      <th>...</th>\n",
       "      <th>DMDHRGND</th>\n",
       "      <th>DMDHRAGE</th>\n",
       "      <th>DMDHRBR4</th>\n",
       "      <th>DMDHREDU</th>\n",
       "      <th>DMDHRMAR</th>\n",
       "      <th>DMDHSEDU</th>\n",
       "      <th>DMDHRAGZ</th>\n",
       "      <th>DMDHREDZ</th>\n",
       "      <th>DMDHRMAZ</th>\n",
       "      <th>DMDHSEDZ</th>\n",
       "    </tr>\n",
       "  </thead>\n",
       "  <tbody>\n",
       "    <tr>\n",
       "      <th>0</th>\n",
       "      <td>62161.0</td>\n",
       "      <td>7.0</td>\n",
       "      <td>2.0</td>\n",
       "      <td>1.0</td>\n",
       "      <td>22.0</td>\n",
       "      <td>NaN</td>\n",
       "      <td>3.0</td>\n",
       "      <td>3.0</td>\n",
       "      <td>2.0</td>\n",
       "      <td>NaN</td>\n",
       "      <td>...</td>\n",
       "      <td>2.0</td>\n",
       "      <td>50.0</td>\n",
       "      <td>1.0</td>\n",
       "      <td>5.0</td>\n",
       "      <td>1.0</td>\n",
       "      <td>5.0</td>\n",
       "      <td>NaN</td>\n",
       "      <td>NaN</td>\n",
       "      <td>NaN</td>\n",
       "      <td>NaN</td>\n",
       "    </tr>\n",
       "    <tr>\n",
       "      <th>1</th>\n",
       "      <td>62162.0</td>\n",
       "      <td>7.0</td>\n",
       "      <td>2.0</td>\n",
       "      <td>2.0</td>\n",
       "      <td>3.0</td>\n",
       "      <td>NaN</td>\n",
       "      <td>1.0</td>\n",
       "      <td>1.0</td>\n",
       "      <td>1.0</td>\n",
       "      <td>3.0</td>\n",
       "      <td>...</td>\n",
       "      <td>2.0</td>\n",
       "      <td>24.0</td>\n",
       "      <td>1.0</td>\n",
       "      <td>3.0</td>\n",
       "      <td>6.0</td>\n",
       "      <td>NaN</td>\n",
       "      <td>NaN</td>\n",
       "      <td>NaN</td>\n",
       "      <td>NaN</td>\n",
       "      <td>NaN</td>\n",
       "    </tr>\n",
       "    <tr>\n",
       "      <th>2</th>\n",
       "      <td>62163.0</td>\n",
       "      <td>7.0</td>\n",
       "      <td>2.0</td>\n",
       "      <td>1.0</td>\n",
       "      <td>14.0</td>\n",
       "      <td>NaN</td>\n",
       "      <td>5.0</td>\n",
       "      <td>6.0</td>\n",
       "      <td>2.0</td>\n",
       "      <td>14.0</td>\n",
       "      <td>...</td>\n",
       "      <td>1.0</td>\n",
       "      <td>42.0</td>\n",
       "      <td>1.0</td>\n",
       "      <td>5.0</td>\n",
       "      <td>1.0</td>\n",
       "      <td>4.0</td>\n",
       "      <td>NaN</td>\n",
       "      <td>NaN</td>\n",
       "      <td>NaN</td>\n",
       "      <td>NaN</td>\n",
       "    </tr>\n",
       "    <tr>\n",
       "      <th>3</th>\n",
       "      <td>62164.0</td>\n",
       "      <td>7.0</td>\n",
       "      <td>2.0</td>\n",
       "      <td>2.0</td>\n",
       "      <td>44.0</td>\n",
       "      <td>NaN</td>\n",
       "      <td>3.0</td>\n",
       "      <td>3.0</td>\n",
       "      <td>1.0</td>\n",
       "      <td>NaN</td>\n",
       "      <td>...</td>\n",
       "      <td>1.0</td>\n",
       "      <td>52.0</td>\n",
       "      <td>1.0</td>\n",
       "      <td>4.0</td>\n",
       "      <td>1.0</td>\n",
       "      <td>4.0</td>\n",
       "      <td>NaN</td>\n",
       "      <td>NaN</td>\n",
       "      <td>NaN</td>\n",
       "      <td>NaN</td>\n",
       "    </tr>\n",
       "    <tr>\n",
       "      <th>4</th>\n",
       "      <td>62165.0</td>\n",
       "      <td>7.0</td>\n",
       "      <td>2.0</td>\n",
       "      <td>2.0</td>\n",
       "      <td>14.0</td>\n",
       "      <td>NaN</td>\n",
       "      <td>4.0</td>\n",
       "      <td>4.0</td>\n",
       "      <td>2.0</td>\n",
       "      <td>14.0</td>\n",
       "      <td>...</td>\n",
       "      <td>2.0</td>\n",
       "      <td>33.0</td>\n",
       "      <td>2.0</td>\n",
       "      <td>2.0</td>\n",
       "      <td>77.0</td>\n",
       "      <td>NaN</td>\n",
       "      <td>NaN</td>\n",
       "      <td>NaN</td>\n",
       "      <td>NaN</td>\n",
       "      <td>NaN</td>\n",
       "    </tr>\n",
       "  </tbody>\n",
       "</table>\n",
       "<p>5 rows × 52 columns</p>\n",
       "</div>"
      ],
      "text/plain": [
       "      SEQN  SDDSRVYR  RIDSTATR  RIAGENDR  RIDAGEYR  RIDAGEMN  RIDRETH1  \\\n",
       "0  62161.0       7.0       2.0       1.0      22.0       NaN       3.0   \n",
       "1  62162.0       7.0       2.0       2.0       3.0       NaN       1.0   \n",
       "2  62163.0       7.0       2.0       1.0      14.0       NaN       5.0   \n",
       "3  62164.0       7.0       2.0       2.0      44.0       NaN       3.0   \n",
       "4  62165.0       7.0       2.0       2.0      14.0       NaN       4.0   \n",
       "\n",
       "   RIDRETH3  RIDEXMON  RIDEXAGY  ...  DMDHRGND  DMDHRAGE  DMDHRBR4  DMDHREDU  \\\n",
       "0       3.0       2.0       NaN  ...       2.0      50.0       1.0       5.0   \n",
       "1       1.0       1.0       3.0  ...       2.0      24.0       1.0       3.0   \n",
       "2       6.0       2.0      14.0  ...       1.0      42.0       1.0       5.0   \n",
       "3       3.0       1.0       NaN  ...       1.0      52.0       1.0       4.0   \n",
       "4       4.0       2.0      14.0  ...       2.0      33.0       2.0       2.0   \n",
       "\n",
       "   DMDHRMAR  DMDHSEDU  DMDHRAGZ  DMDHREDZ  DMDHRMAZ  DMDHSEDZ  \n",
       "0       1.0       5.0       NaN       NaN       NaN       NaN  \n",
       "1       6.0       NaN       NaN       NaN       NaN       NaN  \n",
       "2       1.0       4.0       NaN       NaN       NaN       NaN  \n",
       "3       1.0       4.0       NaN       NaN       NaN       NaN  \n",
       "4      77.0       NaN       NaN       NaN       NaN       NaN  \n",
       "\n",
       "[5 rows x 52 columns]"
      ]
     },
     "execution_count": 5,
     "metadata": {},
     "output_type": "execute_result"
    }
   ],
   "source": [
    "demo_combined.head()"
   ]
  },
  {
   "cell_type": "code",
   "execution_count": 6,
   "id": "18265e48-efa8-4742-8f35-7b9120b5d560",
   "metadata": {},
   "outputs": [],
   "source": [
    "demo_cols_keep  = ['DMDCITZN', # Citizenship status\n",
    "                   'DMDEDUC2', # Education level - Adults 20+\n",
    "                   'DMDHHSIZ', # Total number of people in the Household\n",
    "                   'DMDMARTL', # Marital status\n",
    "                   'DMQMILIZ', # Served active duty in US Armed Forces\n",
    "                   'INDHHIN2', # Annual household income\n",
    "                   'RIAGENDR', # gender\n",
    "                   'RIDAGEYR', # Age in years at screening\n",
    "                   'RIDEXPRG', # pregnacy status\n",
    "                   'RIDRETH1' # Race/Hispanic origin\n",
    "                  ]"
   ]
  },
  {
   "cell_type": "code",
   "execution_count": 8,
   "id": "a400d982-915f-4d17-bde9-2b44cd2032c0",
   "metadata": {},
   "outputs": [
    {
     "data": {
      "text/plain": [
       "['DMDCITZN',\n",
       " 'DMDEDUC2',\n",
       " 'DMDHHSIZ',\n",
       " 'DMDMARTL',\n",
       " 'DMQMILIZ',\n",
       " 'INDHHIN2',\n",
       " 'RIAGENDR',\n",
       " 'RIDAGEYR',\n",
       " 'RIDEXPRG',\n",
       " 'RIDRETH1']"
      ]
     },
     "metadata": {},
     "output_type": "display_data"
    }
   ],
   "source": [
    "df_demo = select_df_col(demo_combined, demo_cols_keep)"
   ]
  },
  {
   "cell_type": "code",
   "execution_count": 9,
   "id": "8dd43cb2-4c9a-4f52-9306-c521efe122c1",
   "metadata": {},
   "outputs": [
    {
     "data": {
      "text/html": [
       "<div>\n",
       "<style scoped>\n",
       "    .dataframe tbody tr th:only-of-type {\n",
       "        vertical-align: middle;\n",
       "    }\n",
       "\n",
       "    .dataframe tbody tr th {\n",
       "        vertical-align: top;\n",
       "    }\n",
       "\n",
       "    .dataframe thead th {\n",
       "        text-align: right;\n",
       "    }\n",
       "</style>\n",
       "<table border=\"1\" class=\"dataframe\">\n",
       "  <thead>\n",
       "    <tr style=\"text-align: right;\">\n",
       "      <th></th>\n",
       "      <th>DMDCITZN</th>\n",
       "      <th>DMDEDUC2</th>\n",
       "      <th>DMDHHSIZ</th>\n",
       "      <th>DMDMARTL</th>\n",
       "      <th>DMQMILIZ</th>\n",
       "      <th>INDHHIN2</th>\n",
       "      <th>RIAGENDR</th>\n",
       "      <th>RIDAGEYR</th>\n",
       "      <th>RIDEXPRG</th>\n",
       "      <th>RIDRETH1</th>\n",
       "    </tr>\n",
       "  </thead>\n",
       "  <tbody>\n",
       "    <tr>\n",
       "      <th>0</th>\n",
       "      <td>1.0</td>\n",
       "      <td>3.0</td>\n",
       "      <td>5.0</td>\n",
       "      <td>5.0</td>\n",
       "      <td>2.0</td>\n",
       "      <td>14.0</td>\n",
       "      <td>1.0</td>\n",
       "      <td>22.0</td>\n",
       "      <td>NaN</td>\n",
       "      <td>3.0</td>\n",
       "    </tr>\n",
       "    <tr>\n",
       "      <th>1</th>\n",
       "      <td>1.0</td>\n",
       "      <td>NaN</td>\n",
       "      <td>6.0</td>\n",
       "      <td>NaN</td>\n",
       "      <td>NaN</td>\n",
       "      <td>4.0</td>\n",
       "      <td>2.0</td>\n",
       "      <td>3.0</td>\n",
       "      <td>NaN</td>\n",
       "      <td>1.0</td>\n",
       "    </tr>\n",
       "    <tr>\n",
       "      <th>2</th>\n",
       "      <td>1.0</td>\n",
       "      <td>NaN</td>\n",
       "      <td>5.0</td>\n",
       "      <td>NaN</td>\n",
       "      <td>NaN</td>\n",
       "      <td>15.0</td>\n",
       "      <td>1.0</td>\n",
       "      <td>14.0</td>\n",
       "      <td>NaN</td>\n",
       "      <td>5.0</td>\n",
       "    </tr>\n",
       "    <tr>\n",
       "      <th>3</th>\n",
       "      <td>1.0</td>\n",
       "      <td>4.0</td>\n",
       "      <td>5.0</td>\n",
       "      <td>1.0</td>\n",
       "      <td>1.0</td>\n",
       "      <td>8.0</td>\n",
       "      <td>2.0</td>\n",
       "      <td>44.0</td>\n",
       "      <td>2.0</td>\n",
       "      <td>3.0</td>\n",
       "    </tr>\n",
       "    <tr>\n",
       "      <th>4</th>\n",
       "      <td>1.0</td>\n",
       "      <td>NaN</td>\n",
       "      <td>5.0</td>\n",
       "      <td>NaN</td>\n",
       "      <td>NaN</td>\n",
       "      <td>4.0</td>\n",
       "      <td>2.0</td>\n",
       "      <td>14.0</td>\n",
       "      <td>NaN</td>\n",
       "      <td>4.0</td>\n",
       "    </tr>\n",
       "  </tbody>\n",
       "</table>\n",
       "</div>"
      ],
      "text/plain": [
       "   DMDCITZN  DMDEDUC2  DMDHHSIZ  DMDMARTL  DMQMILIZ  INDHHIN2  RIAGENDR  \\\n",
       "0       1.0       3.0       5.0       5.0       2.0      14.0       1.0   \n",
       "1       1.0       NaN       6.0       NaN       NaN       4.0       2.0   \n",
       "2       1.0       NaN       5.0       NaN       NaN      15.0       1.0   \n",
       "3       1.0       4.0       5.0       1.0       1.0       8.0       2.0   \n",
       "4       1.0       NaN       5.0       NaN       NaN       4.0       2.0   \n",
       "\n",
       "   RIDAGEYR  RIDEXPRG  RIDRETH1  \n",
       "0      22.0       NaN       3.0  \n",
       "1       3.0       NaN       1.0  \n",
       "2      14.0       NaN       5.0  \n",
       "3      44.0       2.0       3.0  \n",
       "4      14.0       NaN       4.0  "
      ]
     },
     "execution_count": 9,
     "metadata": {},
     "output_type": "execute_result"
    }
   ],
   "source": [
    "df_demo.head()"
   ]
  },
  {
   "cell_type": "markdown",
   "id": "da059399-e22f-4441-8863-7a6787510e7e",
   "metadata": {},
   "source": [
    "### 2. Physical Measure"
   ]
  },
  {
   "cell_type": "code",
   "execution_count": 13,
   "id": "e393cbaa-94aa-4d12-95cc-bc7e4f601f65",
   "metadata": {},
   "outputs": [
    {
     "data": {
      "text/plain": [
       "['nhanes_rawdata/BODY/BloodPressure/BPX_H.XPT',\n",
       " 'nhanes_rawdata/BODY/BloodPressure/BPX_I.XPT',\n",
       " 'nhanes_rawdata/BODY/BloodPressure/BPX_J.XPT',\n",
       " 'nhanes_rawdata/BODY/BloodPressure/BPX_G.XPT']"
      ]
     },
     "metadata": {},
     "output_type": "display_data"
    }
   ],
   "source": [
    "bp_path = r'nhanes_rawdata/BODY/BloodPressure/'\n",
    "\n",
    "bp_combined = read_combine_raw_files(path = bp_path)"
   ]
  },
  {
   "cell_type": "code",
   "execution_count": 14,
   "id": "815c6cf2-0df7-4c23-821a-d94226ed2ba1",
   "metadata": {},
   "outputs": [
    {
     "data": {
      "text/plain": [
       "['nhanes_rawdata/BODY/BodyMeasures/BMX_G.XPT',\n",
       " 'nhanes_rawdata/BODY/BodyMeasures/BMX_J.XPT',\n",
       " 'nhanes_rawdata/BODY/BodyMeasures/BMX_I.XPT',\n",
       " 'nhanes_rawdata/BODY/BodyMeasures/BMX_H.XPT']"
      ]
     },
     "metadata": {},
     "output_type": "display_data"
    }
   ],
   "source": [
    "bm_path = r'nhanes_rawdata/BODY/BodyMeasures/'\n",
    "\n",
    "bm_combined = read_combine_raw_files(path = bm_path)"
   ]
  },
  {
   "cell_type": "code",
   "execution_count": null,
   "id": "f3e1f9db-8e1a-4c58-adab-3d599c7d6e97",
   "metadata": {},
   "outputs": [],
   "source": []
  },
  {
   "cell_type": "code",
   "execution_count": null,
   "id": "56cf33b0-04b6-41d3-a88e-4b53381cf1ef",
   "metadata": {},
   "outputs": [],
   "source": []
  }
 ],
 "metadata": {
  "kernelspec": {
   "display_name": "Python 3 (ipykernel)",
   "language": "python",
   "name": "python3"
  },
  "language_info": {
   "codemirror_mode": {
    "name": "ipython",
    "version": 3
   },
   "file_extension": ".py",
   "mimetype": "text/x-python",
   "name": "python",
   "nbconvert_exporter": "python",
   "pygments_lexer": "ipython3",
   "version": "3.9.12"
  }
 },
 "nbformat": 4,
 "nbformat_minor": 5
}
